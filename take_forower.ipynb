{
 "cells": [
  {
   "cell_type": "markdown",
   "metadata": {},
   "source": []
  },
  {
   "cell_type": "code",
   "execution_count": null,
   "metadata": {},
   "outputs": [],
   "source": [
    "import instaloader\n",
    "import openpyxl \n",
    "import datetime\n",
    "import requests"
   ]
  },
  {
   "cell_type": "code",
   "execution_count": null,
   "metadata": {},
   "outputs": [],
   "source": [
    "#今日の日付取得\n",
    "today=str(datetime.date.today())\n",
    "\n",
    "#Instagramのログイン情報\n",
    "#Instagram ID\n",
    "INSTAGRAM_ID = ''\n",
    "#Instagramパスワード\n",
    "INSTAGRAM_PASSWORD = ''\n",
    "loader = instaloader.Instaloader()\n",
    "loader.login(INSTAGRAM_ID, INSTAGRAM_PASSWORD)\n",
    "\n",
    "#取りたい人のInstagram ID 今回は八人分の情報を取得しています\n",
    "id =['','','','','','','','']\n",
    "#エクセルファイルpath\n",
    "excel_path=''\n",
    "book = openpyxl.load_workbook(filename=excel_path)\n",
    "sheet = book['シート1']\n",
    "#フォロワー数リスト\n",
    "artist_forower=[]\n",
    "#前日のフォロワー数リスト\n",
    "send_list=[]\n",
    "#初日のフォロワー数\n",
    "day1=[]\n",
    "#スラックに送る内容\n",
    "text_slack=[]\n",
    "#エクセルシート番号\n",
    "sheet_days=['A','C','E','G','I','K','M','O']\n",
    "sheet_forower=['B','D','F','H','J','L','N','P']\n"
   ]
  },
  {
   "cell_type": "code",
   "execution_count": null,
   "metadata": {},
   "outputs": [],
   "source": [
    "#アーティストフォロワー数取得\n",
    "def insta_forowwer():\n",
    "    i=0\n",
    "    \n",
    "    while True:\n",
    "        profile = instaloader.Profile.from_username(loader.context, id[i])\n",
    "        followers = profile.get_followers()\n",
    "        forowescount = followers.count\n",
    "        artist_forower.append(forowescount)\n",
    "        i+=1\n",
    "        if i==8:\n",
    "            break"
   ]
  },
  {
   "cell_type": "code",
   "execution_count": null,
   "metadata": {},
   "outputs": [],
   "source": [
    "#スラックに送る文章作成\n",
    "def make_text():\n",
    "  num=0\n",
    "  num2=0\n",
    "  num3=0\n",
    "  max_sheet=str(sheet.max_row)\n",
    "  #初日の数値取得\n",
    "  while True:\n",
    "      day1.append(sheet[sheet_forower[num]+str(3)].value)\n",
    "      num+=1\n",
    "      if num==8:\n",
    "          break\n",
    "  #前日の数値所得\n",
    "  while True:\n",
    "    send_list.append(sheet[sheet_forower[num2]+max_sheet].value)\n",
    "    num2+=1\n",
    "    if num2==8:\n",
    "      break\n",
    "    #スラックに送る文章作成\n",
    "  while True:\n",
    "    text_slack.append(id[num3]+'さん \\r   '+str(artist_forower[num3])+'人  '+'増減数 '+str(int(artist_forower[num3])-int(sheet[sheet_forower[num3]+max_sheet].value)))\n",
    "    num3+=1\n",
    "    if num3==8:\n",
    "      break"
   ]
  },
  {
   "cell_type": "code",
   "execution_count": null,
   "metadata": {},
   "outputs": [],
   "source": [
    "def save_excel():\n",
    "    #excelに書き込みを行う\n",
    "    max_row = str(sheet.max_row+1)\n",
    "    #日付の書き込み\n",
    "    d=0\n",
    "    f=0\n",
    "    while True:\n",
    "        sheet[sheet_days[d]+max_row]=today\n",
    "        d+=1\n",
    "        if d==8:\n",
    "            break\n",
    "    while True:\n",
    "        sheet[sheet_forower[f]+max_row]=artist_forower[f]\n",
    "        f+=1\n",
    "        if f==8:\n",
    "            break\n",
    "    book.save(excel_path)"
   ]
  },
  {
   "cell_type": "code",
   "execution_count": null,
   "metadata": {},
   "outputs": [],
   "source": [
    "def slack_send():\n",
    "   #slack送信用\n",
    "   #トークン記入\n",
    "   TOKEN = ''\n",
    "   #チャンネル名記入\n",
    "   CHANNEL = 'フォロワー確認用'\n",
    "　　#APIのURL\n",
    "   url = \"\"\n",
    "   send_message=0\n",
    "   while True:\n",
    "      headers = {\"Authorization\": \"Bearer \"+TOKEN}\n",
    "      data  = {\n",
    "         \n",
    "      'channel': CHANNEL,\n",
    "      #送りたいテキスト記入\n",
    "      'text': text_slack[send_message]+'                    '\n",
    "      }\n",
    "      r = requests.post(url, headers=headers, data=data)\n",
    "      print(\"return \", r.json())\n",
    "      send_message+=1\n",
    "      if send_message==8:\n",
    "         break"
   ]
  },
  {
   "cell_type": "code",
   "execution_count": null,
   "metadata": {},
   "outputs": [],
   "source": [
    "insta_forowwer()\n",
    "make_text()\n",
    "save_excel()\n",
    "slack_send()"
   ]
  },
  {
   "cell_type": "code",
   "execution_count": null,
   "metadata": {},
   "outputs": [],
   "source": []
  }
 ],
 "metadata": {
  "interpreter": {
   "hash": "aee8b7b246df8f9039afb4144a1f6fd8d2ca17a180786b69acc140d282b71a49"
  },
  "kernelspec": {
   "display_name": "Python 3.9.7 64-bit",
   "language": "python",
   "name": "python3"
  },
  "language_info": {
   "codemirror_mode": {
    "name": "ipython",
    "version": 3
   },
   "file_extension": ".py",
   "mimetype": "text/x-python",
   "name": "python",
   "nbconvert_exporter": "python",
   "pygments_lexer": "ipython3",
   "version": "3.9.7"
  },
  "orig_nbformat": 4
 },
 "nbformat": 4,
 "nbformat_minor": 2
}
