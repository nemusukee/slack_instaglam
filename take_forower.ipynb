{
 "cells": [
  {
   "cell_type": "markdown",
   "metadata": {},
   "source": []
  },
  {
   "cell_type": "code",
   "execution_count": 22,
   "metadata": {},
   "outputs": [],
   "source": [
    "import instaloader\n",
    "import openpyxl \n",
    "import datetime\n",
    "import requests"
   ]
  },
  {
   "cell_type": "code",
   "execution_count": 23,
   "metadata": {},
   "outputs": [],
   "source": [
    "#今日の日付取得\n",
    "today=str(datetime.date.today())\n",
    "\n",
    "#Instagramのログイン情報\n",
    "#Instagram ID\n",
    "INSTAGRAM_ID = ''\n",
    "#Instagramパスワード\n",
    "INSTAGRAM_PASSWORD = ''\n",
    "loader = instaloader.Instaloader()\n",
    "loader.login(INSTAGRAM_ID, INSTAGRAM_PASSWORD)\n",
    "\n",
    "#取りたい人のInstagram ID 今回は八人分の情報を取得しています\n",
    "id =['','','','','','','','']\n",
    "#エクセルファイルpath\n",
    "excel_path=''\n",
    "book = openpyxl.load_workbook(filename=excel_path)\n",
    "sheet = book['シート1']\n",
    "#フォロワー数リスト\n",
    "artist_forower=[]\n",
    "#前日のフォロワー数リスト\n",
    "send_list=[]\n",
    "#初日のフォロワー数\n",
    "day1=[]\n",
    "#スラックに送る内容\n",
    "text_slack=[]\n",
    "#エクセルシート番号\n",
    "sheet_days=['A','C','E','G','I','K','M','O']\n",
    "sheet_forower=['B','D','F','H','J','L','N','P']\n"
   ]
  },
  {
   "cell_type": "code",
   "execution_count": 24,
   "metadata": {},
   "outputs": [],
   "source": [
    "#アーティストフォロワー数取得\n",
    "def insta_forowwer():\n",
    "    i=0\n",
    "    \n",
    "    while True:\n",
    "        profile = instaloader.Profile.from_username(loader.context, id[i])\n",
    "        followers = profile.get_followers()\n",
    "        forowescount = followers.count\n",
    "        artist_forower.append(forowescount)\n",
    "        i+=1\n",
    "        if i==8:\n",
    "            break"
   ]
  },
  {
   "cell_type": "code",
   "execution_count": 25,
   "metadata": {},
   "outputs": [],
   "source": [
    "#スラックに送る文章作成\n",
    "def make_text():\n",
    "  num=0\n",
    "  num2=0\n",
    "  num3=0\n",
    "  max_sheet=str(sheet.max_row)\n",
    "  #初日の数値取得\n",
    "  while True:\n",
    "      day1.append(sheet[sheet_forower[num]+str(3)].value)\n",
    "      num+=1\n",
    "      if num==8:\n",
    "          break\n",
    "  #前日の数値所得\n",
    "  while True:\n",
    "    send_list.append(sheet[sheet_forower[num2]+max_sheet].value)\n",
    "    num2+=1\n",
    "    if num2==8:\n",
    "      break\n",
    "    #スラックに送る文章作成\n",
    "  while True:\n",
    "    text_slack.append(id[num3]+'さん \\r   '+str(artist_forower[num3])+'人  '+'増減数 '+str(int(artist_forower[num3])-int(sheet[sheet_forower[num3]+max_sheet].value)))\n",
    "    num3+=1\n",
    "    if num3==8:\n",
    "      break"
   ]
  },
  {
   "cell_type": "code",
   "execution_count": 26,
   "metadata": {},
   "outputs": [],
   "source": [
    "def save_excel():\n",
    "    #excelに書き込みを行う\n",
    "    max_row = str(sheet.max_row+1)\n",
    "    #日付の書き込み\n",
    "    d=0\n",
    "    f=0\n",
    "    while True:\n",
    "        sheet[sheet_days[d]+max_row]=today\n",
    "        d+=1\n",
    "        if d==8:\n",
    "            break\n",
    "    while True:\n",
    "        sheet[sheet_forower[f]+max_row]=artist_forower[f]\n",
    "        f+=1\n",
    "        if f==8:\n",
    "            break\n",
    "    book.save(excel_path)"
   ]
  },
  {
   "cell_type": "code",
   "execution_count": 27,
   "metadata": {},
   "outputs": [],
   "source": [
    "def slack_send():\n",
    "   #slack送信用\n",
    "   #トークン記入\n",
    "   TOKEN = ''\n",
    "   #チャンネル名記入\n",
    "   CHANNEL = 'フォロワー確認用'\n",
    "　　#APIのURL\n",
    "   url = \"\"\n",
    "   send_message=0\n",
    "   while True:\n",
    "      headers = {\"Authorization\": \"Bearer \"+TOKEN}\n",
    "      data  = {\n",
    "         \n",
    "      'channel': CHANNEL,\n",
    "      #送りたいテキスト記入\n",
    "      'text': text_slack[send_message]+'                    '\n",
    "      }\n",
    "      r = requests.post(url, headers=headers, data=data)\n",
    "      print(\"return \", r.json())\n",
    "      send_message+=1\n",
    "      if send_message==8:\n",
    "         break"
   ]
  },
  {
   "cell_type": "code",
   "execution_count": 28,
   "metadata": {},
   "outputs": [
    {
     "name": "stdout",
     "output_type": "stream",
     "text": [
      "return  {'ok': True, 'channel': 'C03LFC3BJ49', 'ts': '1656289052.608209', 'message': {'bot_id': 'B03KSD57S59', 'type': 'message', 'text': 'sands_cafe_kamakuraさん \\n   342人  増減数 1                    ', 'user': 'U03KPHN4F45', 'ts': '1656289052.608209', 'app_id': 'A03KBR1SZ39', 'team': 'T039A008ZKQ', 'bot_profile': {'id': 'B03KSD57S59', 'app_id': 'A03KBR1SZ39', 'name': 'sendforowwer', 'icons': {'image_36': 'https://a.slack-edge.com/80588/img/plugins/app/bot_36.png', 'image_48': 'https://a.slack-edge.com/80588/img/plugins/app/bot_48.png', 'image_72': 'https://a.slack-edge.com/80588/img/plugins/app/service_72.png'}, 'deleted': False, 'updated': 1655302259, 'team_id': 'T039A008ZKQ'}, 'blocks': [{'type': 'rich_text', 'block_id': 'XF/uj', 'elements': [{'type': 'rich_text_section', 'elements': [{'type': 'text', 'text': 'sands_cafe_kamakuraさん \\n   342人  増減数 1'}]}]}]}}\n",
      "return  {'ok': True, 'channel': 'C03LFC3BJ49', 'ts': '1656289053.011029', 'message': {'bot_id': 'B03KSD57S59', 'type': 'message', 'text': 'mewdimensionさん \\n   1030人  増減数 -1                    ', 'user': 'U03KPHN4F45', 'ts': '1656289053.011029', 'app_id': 'A03KBR1SZ39', 'team': 'T039A008ZKQ', 'bot_profile': {'id': 'B03KSD57S59', 'app_id': 'A03KBR1SZ39', 'name': 'sendforowwer', 'icons': {'image_36': 'https://a.slack-edge.com/80588/img/plugins/app/bot_36.png', 'image_48': 'https://a.slack-edge.com/80588/img/plugins/app/bot_48.png', 'image_72': 'https://a.slack-edge.com/80588/img/plugins/app/service_72.png'}, 'deleted': False, 'updated': 1655302259, 'team_id': 'T039A008ZKQ'}, 'blocks': [{'type': 'rich_text', 'block_id': '1D5l', 'elements': [{'type': 'rich_text_section', 'elements': [{'type': 'text', 'text': 'mewdimensionさん \\n   1030人  増減数 -1'}]}]}]}}\n",
      "return  {'ok': True, 'channel': 'C03LFC3BJ49', 'ts': '1656289053.435839', 'message': {'bot_id': 'B03KSD57S59', 'type': 'message', 'text': 'itakooooさん \\n   344人  増減数 1                    ', 'user': 'U03KPHN4F45', 'ts': '1656289053.435839', 'app_id': 'A03KBR1SZ39', 'team': 'T039A008ZKQ', 'bot_profile': {'id': 'B03KSD57S59', 'app_id': 'A03KBR1SZ39', 'name': 'sendforowwer', 'icons': {'image_36': 'https://a.slack-edge.com/80588/img/plugins/app/bot_36.png', 'image_48': 'https://a.slack-edge.com/80588/img/plugins/app/bot_48.png', 'image_72': 'https://a.slack-edge.com/80588/img/plugins/app/service_72.png'}, 'deleted': False, 'updated': 1655302259, 'team_id': 'T039A008ZKQ'}, 'blocks': [{'type': 'rich_text', 'block_id': 'TfggQ', 'elements': [{'type': 'rich_text_section', 'elements': [{'type': 'text', 'text': 'itakooooさん \\n   344人  増減数 1'}]}]}]}}\n",
      "return  {'ok': True, 'channel': 'C03LFC3BJ49', 'ts': '1656289053.934799', 'message': {'bot_id': 'B03KSD57S59', 'type': 'message', 'text': 'barthdayworksさん \\n   3390人  増減数 1                    ', 'user': 'U03KPHN4F45', 'ts': '1656289053.934799', 'app_id': 'A03KBR1SZ39', 'team': 'T039A008ZKQ', 'bot_profile': {'id': 'B03KSD57S59', 'app_id': 'A03KBR1SZ39', 'name': 'sendforowwer', 'icons': {'image_36': 'https://a.slack-edge.com/80588/img/plugins/app/bot_36.png', 'image_48': 'https://a.slack-edge.com/80588/img/plugins/app/bot_48.png', 'image_72': 'https://a.slack-edge.com/80588/img/plugins/app/service_72.png'}, 'deleted': False, 'updated': 1655302259, 'team_id': 'T039A008ZKQ'}, 'blocks': [{'type': 'rich_text', 'block_id': 'jfmlH', 'elements': [{'type': 'rich_text_section', 'elements': [{'type': 'text', 'text': 'barthdayworksさん \\n   3390人  増減数 1'}]}]}]}}\n",
      "return  {'ok': True, 'channel': 'C03LFC3BJ49', 'ts': '1656289054.293649', 'message': {'bot_id': 'B03KSD57S59', 'type': 'message', 'text': 'ami_art_worksさん \\n   4512人  増減数 5                    ', 'user': 'U03KPHN4F45', 'ts': '1656289054.293649', 'app_id': 'A03KBR1SZ39', 'team': 'T039A008ZKQ', 'bot_profile': {'id': 'B03KSD57S59', 'app_id': 'A03KBR1SZ39', 'name': 'sendforowwer', 'icons': {'image_36': 'https://a.slack-edge.com/80588/img/plugins/app/bot_36.png', 'image_48': 'https://a.slack-edge.com/80588/img/plugins/app/bot_48.png', 'image_72': 'https://a.slack-edge.com/80588/img/plugins/app/service_72.png'}, 'deleted': False, 'updated': 1655302259, 'team_id': 'T039A008ZKQ'}, 'blocks': [{'type': 'rich_text', 'block_id': 'yesU', 'elements': [{'type': 'rich_text_section', 'elements': [{'type': 'text', 'text': 'ami_art_worksさん \\n   4512人  増減数 5'}]}]}]}}\n",
      "return  {'ok': True, 'channel': 'C03LFC3BJ49', 'ts': '1656289054.789449', 'message': {'bot_id': 'B03KSD57S59', 'type': 'message', 'text': 'franky_shinさん \\n   2467人  増減数 0                    ', 'user': 'U03KPHN4F45', 'ts': '1656289054.789449', 'app_id': 'A03KBR1SZ39', 'team': 'T039A008ZKQ', 'bot_profile': {'id': 'B03KSD57S59', 'app_id': 'A03KBR1SZ39', 'name': 'sendforowwer', 'icons': {'image_36': 'https://a.slack-edge.com/80588/img/plugins/app/bot_36.png', 'image_48': 'https://a.slack-edge.com/80588/img/plugins/app/bot_48.png', 'image_72': 'https://a.slack-edge.com/80588/img/plugins/app/service_72.png'}, 'deleted': False, 'updated': 1655302259, 'team_id': 'T039A008ZKQ'}, 'blocks': [{'type': 'rich_text', 'block_id': 'He+I', 'elements': [{'type': 'rich_text_section', 'elements': [{'type': 'text', 'text': 'franky_shinさん \\n   2467人  増減数 0'}]}]}]}}\n",
      "return  {'ok': True, 'channel': 'C03LFC3BJ49', 'ts': '1656289055.143199', 'message': {'bot_id': 'B03KSD57S59', 'type': 'message', 'text': 'atrshitazさん \\n   858人  増減数 0                    ', 'user': 'U03KPHN4F45', 'ts': '1656289055.143199', 'app_id': 'A03KBR1SZ39', 'team': 'T039A008ZKQ', 'bot_profile': {'id': 'B03KSD57S59', 'app_id': 'A03KBR1SZ39', 'name': 'sendforowwer', 'icons': {'image_36': 'https://a.slack-edge.com/80588/img/plugins/app/bot_36.png', 'image_48': 'https://a.slack-edge.com/80588/img/plugins/app/bot_48.png', 'image_72': 'https://a.slack-edge.com/80588/img/plugins/app/service_72.png'}, 'deleted': False, 'updated': 1655302259, 'team_id': 'T039A008ZKQ'}, 'blocks': [{'type': 'rich_text', 'block_id': 'i9cWr', 'elements': [{'type': 'rich_text_section', 'elements': [{'type': 'text', 'text': 'atrshitazさん \\n   858人  増減数 0'}]}]}]}}\n",
      "return  {'ok': True, 'channel': 'C03LFC3BJ49', 'ts': '1656289055.470869', 'message': {'bot_id': 'B03KSD57S59', 'type': 'message', 'text': 'maya__madeleineさん \\n   1402人  増減数 -2                    ', 'user': 'U03KPHN4F45', 'ts': '1656289055.470869', 'app_id': 'A03KBR1SZ39', 'team': 'T039A008ZKQ', 'bot_profile': {'id': 'B03KSD57S59', 'app_id': 'A03KBR1SZ39', 'name': 'sendforowwer', 'icons': {'image_36': 'https://a.slack-edge.com/80588/img/plugins/app/bot_36.png', 'image_48': 'https://a.slack-edge.com/80588/img/plugins/app/bot_48.png', 'image_72': 'https://a.slack-edge.com/80588/img/plugins/app/service_72.png'}, 'deleted': False, 'updated': 1655302259, 'team_id': 'T039A008ZKQ'}, 'blocks': [{'type': 'rich_text', 'block_id': 'nVvm', 'elements': [{'type': 'rich_text_section', 'elements': [{'type': 'text', 'text': 'maya__madeleineさん \\n   1402人  増減数 -2'}]}]}]}}\n"
     ]
    }
   ],
   "source": [
    "insta_forowwer()\n",
    "make_text()\n",
    "save_excel()\n",
    "slack_send()"
   ]
  },
  {
   "cell_type": "code",
   "execution_count": null,
   "metadata": {},
   "outputs": [],
   "source": []
  }
 ],
 "metadata": {
  "interpreter": {
   "hash": "aee8b7b246df8f9039afb4144a1f6fd8d2ca17a180786b69acc140d282b71a49"
  },
  "kernelspec": {
   "display_name": "Python 3.9.7 64-bit",
   "language": "python",
   "name": "python3"
  },
  "language_info": {
   "codemirror_mode": {
    "name": "ipython",
    "version": 3
   },
   "file_extension": ".py",
   "mimetype": "text/x-python",
   "name": "python",
   "nbconvert_exporter": "python",
   "pygments_lexer": "ipython3",
   "version": "3.9.7"
  },
  "orig_nbformat": 4
 },
 "nbformat": 4,
 "nbformat_minor": 2
}
